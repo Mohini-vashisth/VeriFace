{
 "cells": [
  {
   "cell_type": "markdown",
   "metadata": {},
   "source": [
    "*Data Loading*"
   ]
  },
  {
   "cell_type": "code",
   "execution_count": 2,
   "metadata": {},
   "outputs": [
    {
     "name": "stdout",
     "output_type": "stream",
     "text": [
      "{'aagfhgtpmv.mp4': {'label': 'FAKE', 'split': 'train', 'original': 'vudstovrck.mp4'}, 'aapnvogymq.mp4': {'label': 'FAKE', 'split': 'train', 'original': 'jdubbvfswz.mp4'}, 'abarnvbtwb.mp4': {'label': 'REAL', 'split': 'train', 'original': None}, 'abofeumbvv.mp4': {'label': 'FAKE', 'split': 'train', 'original': 'atvmxvwyns.mp4'}, 'abqwwspghj.mp4': {'label': 'FAKE', 'split': 'train', 'original': 'qzimuostzz.mp4'}, 'acifjvzvpm.mp4': {'label': 'FAKE', 'split': 'train', 'original': 'kbvibjhfzo.mp4'}, 'acqfdwsrhi.mp4': {'label': 'FAKE', 'split': 'train', 'original': 'ccfoszqabv.mp4'}, 'acxnxvbsxk.mp4': {'label': 'FAKE', 'split': 'train', 'original': 'fjlyaizcwc.mp4'}, 'acxwigylke.mp4': {'label': 'FAKE', 'split': 'train', 'original': 'ffcwhpnpuw.mp4'}, 'aczrgyricp.mp4': {'label': 'FAKE', 'split': 'train', 'original': 'slwkmefgde.mp4'}, 'adhsbajydo.mp4': {'label': 'FAKE', 'split': 'train', 'original': 'fysyrqfguw.mp4'}, 'adohikbdaz.mp4': {'label': 'FAKE', 'split': 'train', 'original': 'qjlhemtkxk.mp4'}, 'adylbeequz.mp4': {'label': 'FAKE', 'split': 'train', 'original': 'dlpoieqvfb.mp4'}, 'aelfnikyqj.mp4': {'label': 'REAL', 'split': 'train', 'original': None}, 'aelzhcnwgf.mp4': {'label': 'FAKE', 'split': 'train', 'original': 'qzimuostzz.mp4'}, 'aettqgevhz.mp4': {'label': 'FAKE', 'split': 'train', 'original': 'proiippuup.mp4'}, 'aevrfsexku.mp4': {'label': 'FAKE', 'split': 'train', 'original': 'gxembgiarp.mp4'}, 'afoovlsmtx.mp4': {'label': 'REAL', 'split': 'train', 'original': None}, 'agdkmztvby.mp4': {'label': 'FAKE', 'split': 'train', 'original': 'iufotyxgzb.mp4'}, 'agqphdxmwt.mp4': {'label': 'FAKE', 'split': 'train', 'original': 'aytzyidmgs.mp4'}, 'agrmhtjdlk.mp4': {'label': 'REAL', 'split': 'train', 'original': None}, 'ahbweevwpv.mp4': {'label': 'FAKE', 'split': 'train', 'original': 'dkuayagnmc.mp4'}, 'ahdbuwqxit.mp4': {'label': 'FAKE', 'split': 'train', 'original': 'jomvcqqars.mp4'}, 'ahfazfbntc.mp4': {'label': 'FAKE', 'split': 'train', 'original': 'sunqwnmlkx.mp4'}, 'ahqqqilsxt.mp4': {'label': 'REAL', 'split': 'train', 'original': None}, 'aipfdnwpoo.mp4': {'label': 'FAKE', 'split': 'train', 'original': 'ygdgwyqyut.mp4'}, 'ajqslcypsw.mp4': {'label': 'REAL', 'split': 'train', 'original': None}, 'ajwpjhrbcv.mp4': {'label': 'FAKE', 'split': 'train', 'original': 'bzythlfnhq.mp4'}, 'aklqzsddfl.mp4': {'label': 'FAKE', 'split': 'train', 'original': 'lyvlnqduqg.mp4'}, 'aknbdpmgua.mp4': {'label': 'FAKE', 'split': 'train', 'original': 'yxyhvdlrgk.mp4'}, 'aknmpoonls.mp4': {'label': 'FAKE', 'split': 'train', 'original': 'swedbyuehz.mp4'}, 'akvmwkdyuv.mp4': {'label': 'FAKE', 'split': 'train', 'original': 'xlbnmndmku.mp4'}, 'akxoopqjqz.mp4': {'label': 'FAKE', 'split': 'train', 'original': 'meawmsgiti.mp4'}, 'akzbnazxtz.mp4': {'label': 'FAKE', 'split': 'train', 'original': 'ppdpgwyjgm.mp4'}, 'aladcziidp.mp4': {'label': 'FAKE', 'split': 'train', 'original': 'fewcljwqkr.mp4'}, 'alaijyygdv.mp4': {'label': 'FAKE', 'split': 'train', 'original': 'cppdvdejkc.mp4'}, 'alninxcyhg.mp4': {'label': 'FAKE', 'split': 'train', 'original': 'tqhbgzfwsf.mp4'}, 'altziddtxi.mp4': {'label': 'FAKE', 'split': 'train', 'original': 'meawmsgiti.mp4'}, 'alvgwypubw.mp4': {'label': 'FAKE', 'split': 'train', 'original': 'vcxckqbaya.mp4'}, 'amaivqofda.mp4': {'label': 'FAKE', 'split': 'train', 'original': 'xobhsemxmv.mp4'}, 'amowujxmzc.mp4': {'label': 'FAKE', 'split': 'train', 'original': 'xwcggrygwl.mp4'}, 'andaxzscny.mp4': {'label': 'FAKE', 'split': 'train', 'original': 'fysyrqfguw.mp4'}, 'aneclqfpbt.mp4': {'label': 'FAKE', 'split': 'train', 'original': 'xxsxktyvzt.mp4'}, 'anpuvshzoo.mp4': {'label': 'REAL', 'split': 'train', 'original': None}, 'aorjvbyxhw.mp4': {'label': 'FAKE', 'split': 'train', 'original': 'bulkxhhknf.mp4'}, 'apatcsqejh.mp4': {'label': 'FAKE', 'split': 'train', 'original': 'edyncaijwx.mp4'}, 'apgjqzkoma.mp4': {'label': 'FAKE', 'split': 'train', 'original': 'jkddywriuf.mp4'}, 'apogckdfrz.mp4': {'label': 'FAKE', 'split': 'train', 'original': 'uonshkejav.mp4'}, 'aqpnvjhuzw.mp4': {'label': 'FAKE', 'split': 'train', 'original': 'xngpzquyhs.mp4'}, 'arkroixhey.mp4': {'label': 'FAKE', 'split': 'train', 'original': 'fjlyaizcwc.mp4'}, 'arlmiizoob.mp4': {'label': 'FAKE', 'split': 'train', 'original': 'meawmsgiti.mp4'}, 'arrhsnjqku.mp4': {'label': 'FAKE', 'split': 'train', 'original': 'inkqxytzyu.mp4'}, 'asaxgevnnp.mp4': {'label': 'REAL', 'split': 'train', 'original': None}, 'asdpeebotb.mp4': {'label': 'FAKE', 'split': 'train', 'original': 'znjupdqnwo.mp4'}, 'aslsvlvpth.mp4': {'label': 'FAKE', 'split': 'train', 'original': 'jepguaulgf.mp4'}, 'asmpfjfzif.mp4': {'label': 'FAKE', 'split': 'train', 'original': 'dzyuwjkjui.mp4'}, 'asvcrfdpnq.mp4': {'label': 'FAKE', 'split': 'train', 'original': 'upgerjvcjb.mp4'}, 'atkdltyyen.mp4': {'label': 'REAL', 'split': 'train', 'original': None}, 'atvmxvwyns.mp4': {'label': 'REAL', 'split': 'train', 'original': None}, 'atxvxouljq.mp4': {'label': 'FAKE', 'split': 'train', 'original': 'wwqiuiwdbz.mp4'}, 'atyntldecu.mp4': {'label': 'FAKE', 'split': 'train', 'original': 'mfzqxktxud.mp4'}, 'atzdznmder.mp4': {'label': 'FAKE', 'split': 'train', 'original': 'qedsgieuqn.mp4'}, 'aufmsmnoye.mp4': {'label': 'FAKE', 'split': 'train', 'original': 'ppdpgwyjgm.mp4'}, 'augtsuxpzc.mp4': {'label': 'FAKE', 'split': 'train', 'original': 'ifbdbogiqn.mp4'}, 'avfitoutyn.mp4': {'label': 'FAKE', 'split': 'train', 'original': 'mfzqxktxud.mp4'}, 'avgiuextiz.mp4': {'label': 'FAKE', 'split': 'train', 'original': 'hyhjfdxqxy.mp4'}, 'avibnnhwhp.mp4': {'label': 'FAKE', 'split': 'train', 'original': 'jdubbvfswz.mp4'}, 'avmjormvsx.mp4': {'label': 'REAL', 'split': 'train', 'original': None}, 'avnqydkqjj.mp4': {'label': 'FAKE', 'split': 'train', 'original': 'efwfxwwlbw.mp4'}, 'avssvvsdhz.mp4': {'label': 'FAKE', 'split': 'train', 'original': 'gktjowiuqe.mp4'}, 'avtycwsgyb.mp4': {'label': 'FAKE', 'split': 'train', 'original': 'qzklcjjxdq.mp4'}, 'avvdgsennp.mp4': {'label': 'FAKE', 'split': 'train', 'original': 'gbqrgajyca.mp4'}, 'avywawptfc.mp4': {'label': 'FAKE', 'split': 'train', 'original': 'rrcsuwgpnd.mp4'}, 'awhmfnnjih.mp4': {'label': 'FAKE', 'split': 'train', 'original': 'xclqbefnvc.mp4'}, 'awnwkrqibf.mp4': {'label': 'FAKE', 'split': 'train', 'original': 'cprhtltsjp.mp4'}, 'awukslzjra.mp4': {'label': 'FAKE', 'split': 'train', 'original': 'ujzwwfkeia.mp4'}, 'axczxisdtb.mp4': {'label': 'FAKE', 'split': 'train', 'original': 'meawmsgiti.mp4'}, 'axntxmycwd.mp4': {'label': 'REAL', 'split': 'train', 'original': None}, 'axoygtekut.mp4': {'label': 'FAKE', 'split': 'train', 'original': 'topyiohccg.mp4'}, 'axwgcsyphv.mp4': {'label': 'FAKE', 'split': 'train', 'original': 'mfnowqfdwl.mp4'}, 'axwovszumc.mp4': {'label': 'FAKE', 'split': 'train', 'original': 'rvoudrbyac.mp4'}, 'aybgughjxh.mp4': {'label': 'REAL', 'split': 'train', 'original': None}, 'aybumesmpk.mp4': {'label': 'REAL', 'split': 'train', 'original': None}, 'ayqvfdhslr.mp4': {'label': 'FAKE', 'split': 'train', 'original': 'xxrzzncksa.mp4'}, 'aytzyidmgs.mp4': {'label': 'REAL', 'split': 'train', 'original': None}, 'azpuxunqyo.mp4': {'label': 'FAKE', 'split': 'train', 'original': 'jjyfvzxwwx.mp4'}, 'azsmewqghg.mp4': {'label': 'FAKE', 'split': 'train', 'original': 'djxdyjopjd.mp4'}, 'bahdpoesir.mp4': {'label': 'FAKE', 'split': 'train', 'original': 'xnhcreiyqg.mp4'}, 'bbhpvrmbse.mp4': {'label': 'FAKE', 'split': 'train', 'original': 'imzqmbfugn.mp4'}, 'bbhtdfuqxq.mp4': {'label': 'FAKE', 'split': 'train', 'original': 'cpjxareypw.mp4'}, 'bbvgxeczei.mp4': {'label': 'FAKE', 'split': 'train', 'original': 'fysyrqfguw.mp4'}, 'bchnbulevv.mp4': {'label': 'FAKE', 'split': 'train', 'original': 'iyefnuagav.mp4'}, 'bctvsmddgq.mp4': {'label': 'FAKE', 'split': 'train', 'original': 'ybjrqnqnno.mp4'}, 'bdbhekrrwo.mp4': {'label': 'FAKE', 'split': 'train', 'original': 'qtnjyomzwo.mp4'}, 'bddjdhzfze.mp4': {'label': 'REAL', 'split': 'train', 'original': None}, 'bdgipnyobr.mp4': {'label': 'FAKE', 'split': 'train', 'original': 'keecvpbncd.mp4'}, 'bdnaqemxmr.mp4': {'label': 'REAL', 'split': 'train', 'original': None}, 'bdxuhamuqx.mp4': {'label': 'FAKE', 'split': 'train', 'original': 'fecysfujzk.mp4'}, 'beboztfcme.mp4': {'label': 'REAL', 'split': 'train', 'original': None}, 'bejhvclboh.mp4': {'label': 'REAL', 'split': 'train', 'original': None}, 'benmsfzfaz.mp4': {'label': 'FAKE', 'split': 'train', 'original': 'kysxawkest.mp4'}, 'beyebyhrph.mp4': {'label': 'REAL', 'split': 'train', 'original': None}, 'bffwsjxghk.mp4': {'label': 'REAL', 'split': 'train', 'original': None}, 'bgaogsjehq.mp4': {'label': 'FAKE', 'split': 'train', 'original': 'xzvrgckqkz.mp4'}, 'bggsurpgpr.mp4': {'label': 'FAKE', 'split': 'train', 'original': 'gxembgiarp.mp4'}, 'bghphrsfxf.mp4': {'label': 'FAKE', 'split': 'train', 'original': 'sgjnvxvcpu.mp4'}, 'bgmlwsoamc.mp4': {'label': 'FAKE', 'split': 'train', 'original': 'woshnzbxmc.mp4'}, 'bguwlyazau.mp4': {'label': 'FAKE', 'split': 'train', 'original': 'znpdbbsfvj.mp4'}, 'bgvhtpzknn.mp4': {'label': 'REAL', 'split': 'train', 'original': None}, 'bgwmmujlmc.mp4': {'label': 'REAL', 'split': 'train', 'original': None}, 'bhaaboftbc.mp4': {'label': 'FAKE', 'split': 'train', 'original': 'rlvgtsjyer.mp4'}, 'bhbdugnurr.mp4': {'label': 'FAKE', 'split': 'train', 'original': 'vcxckqbaya.mp4'}, 'bhpwpydzpo.mp4': {'label': 'FAKE', 'split': 'train', 'original': 'yfsnwkbafm.mp4'}, 'bhsluedavd.mp4': {'label': 'FAKE', 'split': 'train', 'original': 'kydlpqfrvv.mp4'}, 'bilnggbxgu.mp4': {'label': 'REAL', 'split': 'train', 'original': None}, 'bjjbwsqjir.mp4': {'label': 'FAKE', 'split': 'train', 'original': 'tdohqkzvbk.mp4'}, 'bjkmjilrxp.mp4': {'label': 'FAKE', 'split': 'train', 'original': 'yfsnwkbafm.mp4'}, 'bjsmaqefoi.mp4': {'label': 'FAKE', 'split': 'train', 'original': 'mfpgdgsaxg.mp4'}, 'bkmdzhfzfh.mp4': {'label': 'FAKE', 'split': 'train', 'original': 'hyuipchisa.mp4'}, 'bkvetcojbt.mp4': {'label': 'FAKE', 'split': 'train', 'original': 'ybjrqnqnno.mp4'}, 'bkwxhglwct.mp4': {'label': 'FAKE', 'split': 'train', 'original': 'gjypopglvi.mp4'}, 'blpchvmhxx.mp4': {'label': 'FAKE', 'split': 'train', 'original': 'xqnykluhws.mp4'}, 'blzydqdfem.mp4': {'label': 'FAKE', 'split': 'train', 'original': 'dbtbbhakdv.mp4'}, 'bmbbkwmxqj.mp4': {'label': 'FAKE', 'split': 'train', 'original': 'rrcsuwgpnd.mp4'}, 'bmehkyanbj.mp4': {'label': 'FAKE', 'split': 'train', 'original': 'ptokilxwcx.mp4'}, 'bmhvktyiwp.mp4': {'label': 'FAKE', 'split': 'train', 'original': 'gneufaypol.mp4'}, 'bmioepcpsx.mp4': {'label': 'FAKE', 'split': 'train', 'original': 'vmospzljws.mp4'}, 'bmjmjmbglm.mp4': {'label': 'FAKE', 'split': 'train', 'original': 'mmhqllmlew.mp4'}, 'bmjzrlszhi.mp4': {'label': 'REAL', 'split': 'train', 'original': None}, 'bnbuonyoje.mp4': {'label': 'FAKE', 'split': 'train', 'original': 'fntskqfxxf.mp4'}, 'bndybcqhfr.mp4': {'label': 'FAKE', 'split': 'train', 'original': 'xnfwdpptym.mp4'}, 'bnjcdrfuov.mp4': {'label': 'FAKE', 'split': 'train', 'original': 'ellavthztb.mp4'}, 'bntlodcfeg.mp4': {'label': 'FAKE', 'split': 'train', 'original': 'ytufbmkdlq.mp4'}, 'bofqajtwve.mp4': {'label': 'FAKE', 'split': 'train', 'original': 'dbtbbhakdv.mp4'}, 'boovltmuwi.mp4': {'label': 'FAKE', 'split': 'train', 'original': 'sfujxhuyje.mp4'}, 'bopqhhalml.mp4': {'label': 'FAKE', 'split': 'train', 'original': 'oesxbvktem.mp4'}, 'bourlmzsio.mp4': {'label': 'FAKE', 'split': 'train', 'original': 'bxzakyopjf.mp4'}, 'bpapbctoao.mp4': {'label': 'REAL', 'split': 'train', 'original': None}, 'bpwzipqtxf.mp4': {'label': 'FAKE', 'split': 'train', 'original': 'lmlyvmfbbe.mp4'}, 'bpxckdzddv.mp4': {'label': 'FAKE', 'split': 'train', 'original': 'cizlkenljw.mp4'}, 'bqdjzqhcft.mp4': {'label': 'FAKE', 'split': 'train', 'original': 'ytufbmkdlq.mp4'}, 'bqeiblbxtl.mp4': {'label': 'FAKE', 'split': 'train', 'original': 'iklzfeueid.mp4'}, 'bqhtpqmmqp.mp4': {'label': 'FAKE', 'split': 'train', 'original': 'meawmsgiti.mp4'}, 'bqkdbcqjvb.mp4': {'label': 'FAKE', 'split': 'train', 'original': 'atvmxvwyns.mp4'}, 'bqnymlsayl.mp4': {'label': 'FAKE', 'split': 'train', 'original': 'xagsvjctmp.mp4'}, 'bqqpbzjgup.mp4': {'label': 'FAKE', 'split': 'train', 'original': 'djxdyjopjd.mp4'}, 'bqtuuwzdtr.mp4': {'label': 'FAKE', 'split': 'train', 'original': 'yagllixjvh.mp4'}, 'brhalypwoo.mp4': {'label': 'FAKE', 'split': 'train', 'original': 'uuxqylnzls.mp4'}, 'brvqtabyxj.mp4': {'label': 'FAKE', 'split': 'train', 'original': 'ywvlvpvroj.mp4'}, 'brwrlczjvi.mp4': {'label': 'REAL', 'split': 'train', 'original': None}, 'bseamdrpbj.mp4': {'label': 'FAKE', 'split': 'train', 'original': 'fdcttsvjwf.mp4'}, 'bsfmwclnqy.mp4': {'label': 'FAKE', 'split': 'train', 'original': 'ubplsigbvj.mp4'}, 'bsqgziaylx.mp4': {'label': 'FAKE', 'split': 'train', 'original': 'brwrlczjvi.mp4'}, 'btiysiskpf.mp4': {'label': 'FAKE', 'split': 'train', 'original': 'gxhcuxulhi.mp4'}, 'btjlfpzbdu.mp4': {'label': 'FAKE', 'split': 'train', 'original': 'drcyabprvt.mp4'}, 'btjwbtsgln.mp4': {'label': 'FAKE', 'split': 'train', 'original': 'xwcggrygwl.mp4'}, 'btmsngnqhv.mp4': {'label': 'FAKE', 'split': 'train', 'original': 'crezycjqyk.mp4'}, 'btohlidmru.mp4': {'label': 'FAKE', 'split': 'train', 'original': 'cyxlcuyznd.mp4'}, 'btugrnoton.mp4': {'label': 'FAKE', 'split': 'train', 'original': 'kgbkktcjxf.mp4'}, 'btunxncpjh.mp4': {'label': 'FAKE', 'split': 'train', 'original': 'mgowkzsbyx.mp4'}, 'btxlttbpkj.mp4': {'label': 'FAKE', 'split': 'train', 'original': 'fhghkqdkhe.mp4'}, 'bulkxhhknf.mp4': {'label': 'REAL', 'split': 'train', 'original': None}, 'bvgwelbeof.mp4': {'label': 'FAKE', 'split': 'train', 'original': 'mmhqllmlew.mp4'}, 'bvzjkezkms.mp4': {'label': 'FAKE', 'split': 'train', 'original': 'ekcrtigpab.mp4'}, 'bweezhfpzp.mp4': {'label': 'FAKE', 'split': 'train', 'original': 'ywvlvpvroj.mp4'}, 'bwhlgysghg.mp4': {'label': 'REAL', 'split': 'train', 'original': None}, 'bwipwzzxxu.mp4': {'label': 'REAL', 'split': 'train', 'original': None}, 'bwuwstvsbw.mp4': {'label': 'FAKE', 'split': 'train', 'original': 'xzvrgckqkz.mp4'}, 'bxzakyopjf.mp4': {'label': 'REAL', 'split': 'train', 'original': None}, 'bydaidkpdp.mp4': {'label': 'FAKE', 'split': 'train', 'original': 'gktjowiuqe.mp4'}, 'byfenovjnf.mp4': {'label': 'FAKE', 'split': 'train', 'original': 'gipbyjfxfp.mp4'}, 'byijojkdba.mp4': {'label': 'FAKE', 'split': 'train', 'original': 'liniegczcx.mp4'}, 'byofowlkki.mp4': {'label': 'FAKE', 'split': 'train', 'original': 'ifjktxxiln.mp4'}, 'byqzyxifza.mp4': {'label': 'FAKE', 'split': 'train', 'original': 'kgbkktcjxf.mp4'}, 'byunigvnay.mp4': {'label': 'FAKE', 'split': 'train', 'original': 'nvpluswotp.mp4'}, 'byyqectxqa.mp4': {'label': 'FAKE', 'split': 'train', 'original': 'fdcttsvjwf.mp4'}, 'bzmdrafeex.mp4': {'label': 'FAKE', 'split': 'train', 'original': 'sqwvfgwdxr.mp4'}, 'bzythlfnhq.mp4': {'label': 'REAL', 'split': 'train', 'original': None}, 'caifxvsozs.mp4': {'label': 'REAL', 'split': 'train', 'original': None}, 'caqbrkogkb.mp4': {'label': 'FAKE', 'split': 'train', 'original': 'vgqotmftcr.mp4'}, 'cbbibzcoih.mp4': {'label': 'FAKE', 'split': 'train', 'original': 'lietldeotq.mp4'}, 'cbltdtxglo.mp4': {'label': 'FAKE', 'split': 'train', 'original': 'svcnlasmeh.mp4'}, 'ccfoszqabv.mp4': {'label': 'REAL', 'split': 'train', 'original': None}, 'ccmonzqfrz.mp4': {'label': 'FAKE', 'split': 'train', 'original': 'gxhcuxulhi.mp4'}, 'cdaxixbosp.mp4': {'label': 'FAKE', 'split': 'train', 'original': 'itzmdwutdu.mp4'}, 'cdbsbdymzd.mp4': {'label': 'FAKE', 'split': 'train', 'original': 'xngpzquyhs.mp4'}, 'cdphtzqrvp.mp4': {'label': 'FAKE', 'split': 'train', 'original': 'ehtdtkmmli.mp4'}, 'cdyakrxkia.mp4': {'label': 'FAKE', 'split': 'train', 'original': 'atvmxvwyns.mp4'}, 'cepxysienc.mp4': {'label': 'FAKE', 'split': 'train', 'original': 'euqpvnyxrb.mp4'}, 'cettndmvzl.mp4': {'label': 'FAKE', 'split': 'train', 'original': 'kysxawkest.mp4'}, 'ceymbecxnj.mp4': {'label': 'FAKE', 'split': 'train', 'original': 'gjypopglvi.mp4'}, 'cferslmfwh.mp4': {'label': 'FAKE', 'split': 'train', 'original': 'fygviyzcjm.mp4'}, 'cffffbcywc.mp4': {'label': 'FAKE', 'split': 'train', 'original': 'ztbinwxgyu.mp4'}, 'cfxkpiweqt.mp4': {'label': 'REAL', 'split': 'train', 'original': None}, 'cfyduhpbps.mp4': {'label': 'FAKE', 'split': 'train', 'original': 'tfoxelmnjx.mp4'}, 'cglxirfaey.mp4': {'label': 'FAKE', 'split': 'train', 'original': 'qypgyrxcme.mp4'}, 'cgvrgibpfo.mp4': {'label': 'FAKE', 'split': 'train', 'original': 'puppdcffcj.mp4'}, 'chtapglbcj.mp4': {'label': 'REAL', 'split': 'train', 'original': None}, 'chviwxsfhg.mp4': {'label': 'REAL', 'split': 'train', 'original': None}, 'chzieimrwu.mp4': {'label': 'FAKE', 'split': 'train', 'original': 'topyiohccg.mp4'}, 'ciyoudyhly.mp4': {'label': 'REAL', 'split': 'train', 'original': None}, 'cizlkenljw.mp4': {'label': 'REAL', 'split': 'train', 'original': None}, 'ckbdwedgmc.mp4': {'label': 'FAKE', 'split': 'train', 'original': 'zrkinjhsuq.mp4'}, 'ckjaibzfxa.mp4': {'label': 'REAL', 'split': 'train', 'original': None}, 'ckkuyewywx.mp4': {'label': 'REAL', 'split': 'train', 'original': None}, 'cknyxaqouy.mp4': {'label': 'FAKE', 'split': 'train', 'original': 'bwipwzzxxu.mp4'}, 'cksanfsjhc.mp4': {'label': 'FAKE', 'split': 'train', 'original': 'atkdltyyen.mp4'}, 'clihsshdkq.mp4': {'label': 'FAKE', 'split': 'train', 'original': 'qzimuostzz.mp4'}, 'clrycekyst.mp4': {'label': 'REAL', 'split': 'train', 'original': None}, 'cmbzllswnl.mp4': {'label': 'REAL', 'split': 'train', 'original': None}, 'cmxcfkrjiv.mp4': {'label': 'FAKE', 'split': 'train', 'original': 'ztbinwxgyu.mp4'}, 'cnilkgvfei.mp4': {'label': 'FAKE', 'split': 'train', 'original': 'kwyvikrgmx.mp4'}, 'coadfnerlk.mp4': {'label': 'FAKE', 'split': 'train', 'original': 'bwipwzzxxu.mp4'}, 'cobjrlugvp.mp4': {'label': 'REAL', 'split': 'train', 'original': None}, 'covdcysmbi.mp4': {'label': 'FAKE', 'split': 'train', 'original': 'jomvcqqars.mp4'}, 'cpjxareypw.mp4': {'label': 'REAL', 'split': 'train', 'original': None}, 'cppdvdejkc.mp4': {'label': 'REAL', 'split': 'train', 'original': None}, 'cprhtltsjp.mp4': {'label': 'REAL', 'split': 'train', 'original': None}, 'cqfugiqupm.mp4': {'label': 'FAKE', 'split': 'train', 'original': 'fpvduejzcw.mp4'}, 'cqhngvpgyi.mp4': {'label': 'FAKE', 'split': 'train', 'original': 'tfoixxmpoo.mp4'}, 'cqrskwiqng.mp4': {'label': 'FAKE', 'split': 'train', 'original': 'swedbyuehz.mp4'}, 'crezycjqyk.mp4': {'label': 'REAL', 'split': 'train', 'original': None}, 'crktehraph.mp4': {'label': 'FAKE', 'split': 'train', 'original': 'vrsinxahfh.mp4'}, 'crzfebnfgb.mp4': {'label': 'FAKE', 'split': 'train', 'original': 'wgmbcqfgkp.mp4'}, 'cthdnahrkh.mp4': {'label': 'FAKE', 'split': 'train', 'original': 'vrsinxahfh.mp4'}, 'ctpqeykqdp.mp4': {'label': 'FAKE', 'split': 'train', 'original': 'iklzfeueid.mp4'}, 'cttqtsjvgn.mp4': {'label': 'FAKE', 'split': 'train', 'original': 'fkyrrigzpt.mp4'}, 'ctzmavwror.mp4': {'label': 'FAKE', 'split': 'train', 'original': 'lkdlzpkukw.mp4'}, 'curpwogllm.mp4': {'label': 'FAKE', 'split': 'train', 'original': 'chtapglbcj.mp4'}, 'cuzrgrbvil.mp4': {'label': 'FAKE', 'split': 'train', 'original': 'iiomvouemm.mp4'}, 'cvaksbpssm.mp4': {'label': 'FAKE', 'split': 'train', 'original': 'gdfyzwykty.mp4'}, 'cwbacdwrzo.mp4': {'label': 'FAKE', 'split': 'train', 'original': 'fecysfujzk.mp4'}, 'cwqlvzefpg.mp4': {'label': 'FAKE', 'split': 'train', 'original': 'qeumxirsme.mp4'}, 'cwrtyzndpx.mp4': {'label': 'FAKE', 'split': 'train', 'original': 'kgbkktcjxf.mp4'}, 'cwsbspfzck.mp4': {'label': 'FAKE', 'split': 'train', 'original': 'wtreibcmgm.mp4'}, 'cwwandrkus.mp4': {'label': 'FAKE', 'split': 'train', 'original': 'kgbkktcjxf.mp4'}, 'cxfujlvsuw.mp4': {'label': 'FAKE', 'split': 'train', 'original': 'qtnjyomzwo.mp4'}, 'cxrfacemmq.mp4': {'label': 'FAKE', 'split': 'train', 'original': 'dlpoieqvfb.mp4'}, 'cxttmymlbn.mp4': {'label': 'FAKE', 'split': 'train', 'original': 'qapnbtdypb.mp4'}, 'cyboodqqyr.mp4': {'label': 'FAKE', 'split': 'train', 'original': 'qeumxirsme.mp4'}, 'cycacemkmt.mp4': {'label': 'FAKE', 'split': 'train', 'original': 'atvmxvwyns.mp4'}, 'cyclgfjdrv.mp4': {'label': 'FAKE', 'split': 'train', 'original': 'gbqrgajyca.mp4'}, 'cyxlcuyznd.mp4': {'label': 'REAL', 'split': 'train', 'original': None}, 'czfunozvwp.mp4': {'label': 'FAKE', 'split': 'train', 'original': 'caifxvsozs.mp4'}, 'czkdanyadc.mp4': {'label': 'FAKE', 'split': 'train', 'original': 'meawmsgiti.mp4'}, 'czmqpxrqoh.mp4': {'label': 'FAKE', 'split': 'train', 'original': 'atvmxvwyns.mp4'}, 'dafhtipaml.mp4': {'label': 'FAKE', 'split': 'train', 'original': 'kdodrvufdh.mp4'}, 'dakiztgtnw.mp4': {'label': 'REAL', 'split': 'train', 'original': None}, 'dakqwktlbi.mp4': {'label': 'FAKE', 'split': 'train', 'original': 'atvmxvwyns.mp4'}, 'dbhoxkblzx.mp4': {'label': 'FAKE', 'split': 'train', 'original': 'qtnjyomzwo.mp4'}, 'dbhrpizyeq.mp4': {'label': 'FAKE', 'split': 'train', 'original': 'ffcwhpnpuw.mp4'}, 'dbnygxtwek.mp4': {'label': 'REAL', 'split': 'train', 'original': None}, 'dboxtiehng.mp4': {'label': 'FAKE', 'split': 'train', 'original': 'jjyfvzxwwx.mp4'}, 'dbtbbhakdv.mp4': {'label': 'REAL', 'split': 'train', 'original': None}, 'dbzcqmxzaj.mp4': {'label': 'FAKE', 'split': 'train', 'original': 'yxyhvdlrgk.mp4'}, 'dbzpcjntve.mp4': {'label': 'FAKE', 'split': 'train', 'original': 'ellavthztb.mp4'}, 'dcamvmuors.mp4': {'label': 'FAKE', 'split': 'train', 'original': 'iuzdfwsefw.mp4'}, 'dcuiiorugd.mp4': {'label': 'FAKE', 'split': 'train', 'original': 'wapebjxejr.mp4'}, 'ddepeddixj.mp4': {'label': 'REAL', 'split': 'train', 'original': None}, 'ddhfabwpuz.mp4': {'label': 'FAKE', 'split': 'train', 'original': 'luvasmspox.mp4'}, 'ddjggcasdw.mp4': {'label': 'FAKE', 'split': 'train', 'original': 'qtnjyomzwo.mp4'}, 'ddpvuimigj.mp4': {'label': 'FAKE', 'split': 'train', 'original': 'ijokcwewbs.mp4'}, 'ddqccgmtka.mp4': {'label': 'FAKE', 'split': 'train', 'original': 'qokxxuayqn.mp4'}, 'degpbqvcay.mp4': {'label': 'FAKE', 'split': 'train', 'original': 'ptokilxwcx.mp4'}, 'deywhkarol.mp4': {'label': 'FAKE', 'split': 'train', 'original': 'ljaifbsfuw.mp4'}, 'deyyistcrd.mp4': {'label': 'FAKE', 'split': 'train', 'original': 'ywvlvpvroj.mp4'}, 'dfbpceeaox.mp4': {'label': 'FAKE', 'split': 'train', 'original': 'bffwsjxghk.mp4'}, 'dgmevclvzy.mp4': {'label': 'FAKE', 'split': 'train', 'original': 'jzmdganfys.mp4'}, 'dgxrqjdomn.mp4': {'label': 'FAKE', 'split': 'train', 'original': 'duycddgtrl.mp4'}, 'dgzklxjmix.mp4': {'label': 'FAKE', 'split': 'train', 'original': 'jszyyhamrh.mp4'}, 'dhcndnuwta.mp4': {'label': 'REAL', 'split': 'train', 'original': None}, 'dhcselezer.mp4': {'label': 'FAKE', 'split': 'train', 'original': 'uonshkejav.mp4'}, 'dhevettufk.mp4': {'label': 'FAKE', 'split': 'train', 'original': 'cppdvdejkc.mp4'}, 'dhjmzhrcav.mp4': {'label': 'FAKE', 'split': 'train', 'original': 'tdohqkzvbk.mp4'}, 'dhkwmjxwrn.mp4': {'label': 'FAKE', 'split': 'train', 'original': 'ehccixxzoe.mp4'}, 'dhoqofwoxa.mp4': {'label': 'FAKE', 'split': 'train', 'original': 'gbqrgajyca.mp4'}, 'dhxctgyoqj.mp4': {'label': 'REAL', 'split': 'train', 'original': None}, 'diomeixhrg.mp4': {'label': 'FAKE', 'split': 'train', 'original': 'gneufaypol.mp4'}, 'diopzaywor.mp4': {'label': 'FAKE', 'split': 'train', 'original': 'fgfyrfyqay.mp4'}, 'diqraixiov.mp4': {'label': 'FAKE', 'split': 'train', 'original': 'gmihbscmwq.mp4'}, 'diuzrpqjli.mp4': {'label': 'FAKE', 'split': 'train', 'original': 'smggzgxymo.mp4'}, 'djvtbgwdcc.mp4': {'label': 'FAKE', 'split': 'train', 'original': 'jljpdojupu.mp4'}, 'djvutyvaio.mp4': {'label': 'FAKE', 'split': 'train', 'original': 'zhfyuhonra.mp4'}, 'djxdyjopjd.mp4': {'label': 'REAL', 'split': 'train', 'original': None}, 'dkdwxmtpuo.mp4': {'label': 'FAKE', 'split': 'train', 'original': 'mmhqllmlew.mp4'}, 'dkhlttuvmx.mp4': {'label': 'FAKE', 'split': 'train', 'original': 'qeumxirsme.mp4'}, 'dkrvorliqc.mp4': {'label': 'FAKE', 'split': 'train', 'original': 'hcswybumab.mp4'}, 'dkuayagnmc.mp4': {'label': 'REAL', 'split': 'train', 'original': None}, 'dkwjwbwgey.mp4': {'label': 'FAKE', 'split': 'train', 'original': 'rfzzrftgco.mp4'}, 'dkzvdrzcnr.mp4': {'label': 'REAL', 'split': 'train', 'original': None}, 'dlpoieqvfb.mp4': {'label': 'REAL', 'split': 'train', 'original': None}, 'dlrsbscitn.mp4': {'label': 'FAKE', 'split': 'train', 'original': 'ztbinwxgyu.mp4'}, 'dnexlwbcxq.mp4': {'label': 'FAKE', 'split': 'train', 'original': 'ezaajaswoe.mp4'}, 'dnhvalzvrt.mp4': {'label': 'FAKE', 'split': 'train', 'original': 'tamayudqqx.mp4'}, 'dntkzzzcdh.mp4': {'label': 'FAKE', 'split': 'train', 'original': 'gnyspcpbhd.mp4'}, 'dnyvfblxpm.mp4': {'label': 'FAKE', 'split': 'train', 'original': 'eckvhdusax.mp4'}, 'doanjploai.mp4': {'label': 'FAKE', 'split': 'train', 'original': 'fkqptfouqw.mp4'}, 'dofusvhnib.mp4': {'label': 'FAKE', 'split': 'train', 'original': 'xnfwdpptym.mp4'}, 'dozyddhild.mp4': {'label': 'FAKE', 'split': 'train', 'original': 'ngdswpaqnt.mp4'}, 'dptbnjnkdg.mp4': {'label': 'FAKE', 'split': 'train', 'original': 'kkzsnmrkqk.mp4'}, 'dptrzdvwpg.mp4': {'label': 'FAKE', 'split': 'train', 'original': 'iiomvouemm.mp4'}, 'dqnyszdong.mp4': {'label': 'FAKE', 'split': 'train', 'original': 'qeumxirsme.mp4'}, 'dqppxmoqdl.mp4': {'label': 'FAKE', 'split': 'train', 'original': 'zrkinjhsuq.mp4'}, 'dqqtjcryjv.mp4': {'label': 'FAKE', 'split': 'train', 'original': 'iyefnuagav.mp4'}, 'dqswpjoepo.mp4': {'label': 'FAKE', 'split': 'train', 'original': 'kydlpqfrvv.mp4'}, 'dqzreruvje.mp4': {'label': 'FAKE', 'split': 'train', 'original': 'rlldzrnmdn.mp4'}, 'drcyabprvt.mp4': {'label': 'REAL', 'split': 'train', 'original': None}, 'drgjzlxzxj.mp4': {'label': 'FAKE', 'split': 'train', 'original': 'yagllixjvh.mp4'}, 'drsakwyvqv.mp4': {'label': 'FAKE', 'split': 'train', 'original': 'jomvcqqars.mp4'}, 'drtbksnpol.mp4': {'label': 'FAKE', 'split': 'train', 'original': 'dzyuwjkjui.mp4'}, 'dsdoseflas.mp4': {'label': 'FAKE', 'split': 'train', 'original': 'dzyuwjkjui.mp4'}, 'dsgpbgsrdm.mp4': {'label': 'FAKE', 'split': 'train', 'original': 'nlerwupaqr.mp4'}, 'dsjbknkujw.mp4': {'label': 'REAL', 'split': 'train', 'original': None}, 'dsndhujjjb.mp4': {'label': 'FAKE', 'split': 'train', 'original': 'ohnonevlro.mp4'}, 'dtbpmdqvao.mp4': {'label': 'FAKE', 'split': 'train', 'original': 'gjypopglvi.mp4'}, 'dtocdfbwca.mp4': {'label': 'FAKE', 'split': 'train', 'original': 'dakiztgtnw.mp4'}, 'dubiroskqn.mp4': {'label': 'FAKE', 'split': 'train', 'original': 'gzyzdcbuuv.mp4'}, 'dulanfulol.mp4': {'label': 'FAKE', 'split': 'train', 'original': 'iieoqptzec.mp4'}, 'duvyaxbzvp.mp4': {'label': 'FAKE', 'split': 'train', 'original': 'fgfyrfyqay.mp4'}, 'duycddgtrl.mp4': {'label': 'REAL', 'split': 'train', 'original': None}, 'duzuusuajr.mp4': {'label': 'FAKE', 'split': 'train', 'original': 'fgfyrfyqay.mp4'}, 'dvakowbgbt.mp4': {'label': 'FAKE', 'split': 'train', 'original': 'slwkmefgde.mp4'}, 'dvumqqhoac.mp4': {'label': 'FAKE', 'split': 'train', 'original': 'kuelhabsmz.mp4'}, 'dwediigjit.mp4': {'label': 'FAKE', 'split': 'train', 'original': 'tmdformfqp.mp4'}, 'dxbqjxrhin.mp4': {'label': 'REAL', 'split': 'train', 'original': None}, 'dxuliowugt.mp4': {'label': 'FAKE', 'split': 'train', 'original': 'imzqmbfugn.mp4'}, 'dxuplhwvig.mp4': {'label': 'FAKE', 'split': 'train', 'original': 'yoavqsqobz.mp4'}, 'dzieklokdr.mp4': {'label': 'FAKE', 'split': 'train', 'original': 'pylnolwenx.mp4'}, 'dzqwgqewhu.mp4': {'label': 'FAKE', 'split': 'train', 'original': 'xwcggrygwl.mp4'}, 'dzvyfiarrq.mp4': {'label': 'FAKE', 'split': 'train', 'original': 'bgwmmujlmc.mp4'}, 'dzwkmcwkwl.mp4': {'label': 'FAKE', 'split': 'train', 'original': 'pqvypayzrp.mp4'}, 'dzyuwjkjui.mp4': {'label': 'REAL', 'split': 'train', 'original': None}, 'eahlqmfvtj.mp4': {'label': 'FAKE', 'split': 'train', 'original': 'lyvlnqduqg.mp4'}, 'eajlrktemq.mp4': {'label': 'FAKE', 'split': 'train', 'original': 'yjlsxqoauz.mp4'}, 'ebchwmwayp.mp4': {'label': 'FAKE', 'split': 'train', 'original': 'ehccixxzoe.mp4'}, 'ebebgmtlcu.mp4': {'label': 'FAKE', 'split': 'train', 'original': 'iufotyxgzb.mp4'}, 'ebeknhudxq.mp4': {'label': 'FAKE', 'split': 'train', 'original': 'fysyrqfguw.mp4'}, 'ebkzwjgjhq.mp4': {'label': 'FAKE', 'split': 'train', 'original': 'kgbkktcjxf.mp4'}, 'ebywfrmhtd.mp4': {'label': 'FAKE', 'split': 'train', 'original': 'grnycmbdfu.mp4'}, 'eckvhdusax.mp4': {'label': 'REAL', 'split': 'train', 'original': None}, 'ecnihjlfyt.mp4': {'label': 'FAKE', 'split': 'train', 'original': 'kysxawkest.mp4'}, 'ecujsjhscd.mp4': {'label': 'REAL', 'split': 'train', 'original': None}, 'ecuvtoltue.mp4': {'label': 'FAKE', 'split': 'train', 'original': 'xngpzquyhs.mp4'}, 'ecwaxgutkc.mp4': {'label': 'FAKE', 'split': 'train', 'original': 'itmwoyxbas.mp4'}, 'eczrseixwq.mp4': {'label': 'FAKE', 'split': 'train', 'original': 'iieoqptzec.mp4'}, 'edyncaijwx.mp4': {'label': 'REAL', 'split': 'train', 'original': None}, 'eebrkicpry.mp4': {'label': 'FAKE', 'split': 'train', 'original': 'rjlgchzmfv.mp4'}, 'eebserckhh.mp4': {'label': 'FAKE', 'split': 'train', 'original': 'qzklcjjxdq.mp4'}, 'eejswgycjc.mp4': {'label': 'FAKE', 'split': 'train', 'original': 'qzklcjjxdq.mp4'}, 'eekozbeafq.mp4': {'label': 'FAKE', 'split': 'train', 'original': 'olakcrnuro.mp4'}, 'eepezmygaq.mp4': {'label': 'FAKE', 'split': 'train', 'original': 'abarnvbtwb.mp4'}, 'eeyhxisdfh.mp4': {'label': 'FAKE', 'split': 'train', 'original': 'lyvlnqduqg.mp4'}, 'efdyrflcpg.mp4': {'label': 'FAKE', 'split': 'train', 'original': 'xngpzquyhs.mp4'}, 'efwfxwwlbw.mp4': {'label': 'REAL', 'split': 'train', 'original': None}, 'egbbcxcuqy.mp4': {'label': 'FAKE', 'split': 'train', 'original': 'hqtepxaeqx.mp4'}, 'eggbjzxnmg.mp4': {'label': 'REAL', 'split': 'train', 'original': None}, 'egghxjjmfg.mp4': {'label': 'REAL', 'split': 'train', 'original': None}, 'ehbnclaukr.mp4': {'label': 'FAKE', 'split': 'train', 'original': 'gipbyjfxfp.mp4'}, 'ehccixxzoe.mp4': {'label': 'REAL', 'split': 'train', 'original': None}, 'ehdkmxgtxh.mp4': {'label': 'FAKE', 'split': 'train', 'original': 'bejhvclboh.mp4'}, 'ehevsxtecd.mp4': {'label': 'FAKE', 'split': 'train', 'original': 'nzquxipbye.mp4'}, 'ehfiekigla.mp4': {'label': 'FAKE', 'split': 'train', 'original': 'avmjormvsx.mp4'}, 'ehieahnhte.mp4': {'label': 'FAKE', 'split': 'train', 'original': 'sasoxcqisz.mp4'}, 'ehtdtkmmli.mp4': {'label': 'REAL', 'split': 'train', 'original': None}, 'eiriyukqqy.mp4': {'label': 'FAKE', 'split': 'train', 'original': 'ixuouyigxa.mp4'}, 'eivxffliio.mp4': {'label': 'FAKE', 'split': 'train', 'original': 'joeifeskbs.mp4'}, 'eiwopxzjfn.mp4': {'label': 'FAKE', 'split': 'train', 'original': 'xzvrgckqkz.mp4'}, 'eixwxvxbbn.mp4': {'label': 'FAKE', 'split': 'train', 'original': 'ywvlvpvroj.mp4'}, 'ejkqesyvam.mp4': {'label': 'FAKE', 'split': 'train', 'original': 'jwcsqxzdlv.mp4'}, 'ekcrtigpab.mp4': {'label': 'REAL', 'split': 'train', 'original': None}, 'ekhacizpah.mp4': {'label': 'FAKE', 'split': 'train', 'original': 'egghxjjmfg.mp4'}, 'ekkdjkirzq.mp4': {'label': 'FAKE', 'split': 'train', 'original': 'tivkmbqgwp.mp4'}, 'elginszwtk.mp4': {'label': 'FAKE', 'split': 'train', 'original': 'gipbyjfxfp.mp4'}, 'ellavthztb.mp4': {'label': 'REAL', 'split': 'train', 'original': None}, 'elvvackpjh.mp4': {'label': 'FAKE', 'split': 'train', 'original': 'qhkqqfznrg.mp4'}, 'emaalmsonj.mp4': {'label': 'FAKE', 'split': 'train', 'original': 'dzyuwjkjui.mp4'}, 'emfbhytfhc.mp4': {'label': 'FAKE', 'split': 'train', 'original': 'cprhtltsjp.mp4'}, 'emgjphonqb.mp4': {'label': 'FAKE', 'split': 'train', 'original': 'ybjrqnqnno.mp4'}, 'ensyyivobf.mp4': {'label': 'FAKE', 'split': 'train', 'original': 'lulmevqtla.mp4'}, 'eoewqcpbgt.mp4': {'label': 'FAKE', 'split': 'train', 'original': 'gbqrgajyca.mp4'}, 'eprybmbpba.mp4': {'label': 'FAKE', 'split': 'train', 'original': 'kuelhabsmz.mp4'}, 'epymyyiblu.mp4': {'label': 'FAKE', 'split': 'train', 'original': 'svcnlasmeh.mp4'}, 'eqjscdagiv.mp4': {'label': 'FAKE', 'split': 'train', 'original': 'dbnygxtwek.mp4'}, 'eqnoqyfquo.mp4': {'label': 'REAL', 'split': 'train', 'original': None}, 'eqvuznuwsa.mp4': {'label': 'FAKE', 'split': 'train', 'original': 'cmbzllswnl.mp4'}, 'erlvuvjsjf.mp4': {'label': 'REAL', 'split': 'train', 'original': None}, 'erqgqacbqe.mp4': {'label': 'FAKE', 'split': 'train', 'original': 'nvpluswotp.mp4'}, 'errocgcham.mp4': {'label': 'FAKE', 'split': 'train', 'original': 'grnycmbdfu.mp4'}, 'esckbnkkvb.mp4': {'label': 'FAKE', 'split': 'train', 'original': 'gdfyzwykty.mp4'}, 'esgftaficx.mp4': {'label': 'FAKE', 'split': 'train', 'original': 'rrcsuwgpnd.mp4'}, 'esnntzzajv.mp4': {'label': 'FAKE', 'split': 'train', 'original': 'ybetenmsye.mp4'}, 'esxrvsgpvb.mp4': {'label': 'FAKE', 'split': 'train', 'original': 'gomwfvijiv.mp4'}, 'esyhwdfnxs.mp4': {'label': 'FAKE', 'split': 'train', 'original': 'qeumxirsme.mp4'}, 'esyrimvzsa.mp4': {'label': 'FAKE', 'split': 'train', 'original': 'qzklcjjxdq.mp4'}, 'etdcqxabww.mp4': {'label': 'FAKE', 'split': 'train', 'original': 'gipbyjfxfp.mp4'}, 'etejaapnxh.mp4': {'label': 'FAKE', 'split': 'train', 'original': 'wtreibcmgm.mp4'}, 'etmcruaihe.mp4': {'label': 'FAKE', 'split': 'train', 'original': 'afoovlsmtx.mp4'}, 'etohcvnzbj.mp4': {'label': 'FAKE', 'split': 'train', 'original': 'bdnaqemxmr.mp4'}, 'eudeqjhdfd.mp4': {'label': 'REAL', 'split': 'train', 'original': None}, 'eukvucdetx.mp4': {'label': 'FAKE', 'split': 'train', 'original': 'gjypopglvi.mp4'}}\n"
     ]
    }
   ],
   "source": [
    "import json\n",
    "\n",
    "# Load metadata from JSON file\n",
    "def load_metadata(metadata_path):\n",
    "    with open(metadata_path, 'r') as f:\n",
    "        metadata = json.load(f)g\n",
    "    return metadata\n",
    "\n",
    "# Example usage\n",
    "metadata_path = '/Users/lakshya/Desktop/Projects/VeriFace/Video Dataset/metadata.json'\n",
    "metadata = load_metadata(metadata_path)\n",
    "print(metadata)  # Inspect metadata structure"
   ]
  },
  {
   "cell_type": "code",
   "execution_count": null,
   "metadata": {},
   "outputs": [],
   "source": [
    "import os\n",
    "import numpy as np\n",
    "import cv2\n",
    "\n",
    "def load_video(video_path, max_frames=100, target_size=(224, 224)):\n",
    "    cap = cv2.VideoCapture(video_path)\n",
    "    frames = []\n",
    "    \n",
    "    while cap.isOpened() and len(frames) < max_frames:\n",
    "        ret, frame = cap.read()\n",
    "        if not ret:\n",
    "            break\n",
    "        \n",
    "        frame = cv2.resize(frame, target_size)\n",
    "        frame = frame / 255.0\n",
    "        frames.append(frame)\n",
    "    \n",
    "    cap.release()\n",
    "    return np.array(frames)\n",
    "\n",
    "def process_videos_with_metadata(video_dir, metadata, max_frames=100, target_size=(224, 224)):\n",
    "    videos = []\n",
    "    labels = []\n",
    "    additional_features = []\n",
    "\n",
    "    for video_file in os.listdir(video_dir):\n",
    "        video_path = os.path.join(video_dir, video_file)\n",
    "        \n",
    "        # Extract metadata for the video\n",
    "        video_id = os.path.splitext(video_file)[0]\n",
    "        video_metadata = metadata.get(video_id, {})\n",
    "        \n",
    "        frames = load_video(video_path, max_frames, target_size)\n",
    "        videos.append(frames)\n",
    "        labels.append(video_metadata.get('label', 0))  # Default to 0 if no label\n",
    "        additional_features.append(video_metadata.get('features', {}))  # Adjust based on your metadata structure\n",
    "    \n",
    "    return np.array(videos), np.array(labels), additional_features\n",
    "\n",
    "# Example usage\n",
    "video_dir = '/Users/lakshya/Desktop/Projects/VeriFace/Video Dataset/train_data'\n",
    "metadata = load_metadata(metadata_path)\n",
    "videos, labels, additional_features = process_videos_with_metadata(video_dir, metadata)"
   ]
  },
  {
   "cell_type": "markdown",
   "metadata": {},
   "source": [
    "*Data Extraction*\n",
    "1. Video Extraction"
   ]
  },
  {
   "cell_type": "code",
   "execution_count": null,
   "metadata": {},
   "outputs": [],
   "source": [
    "import cv2\n",
    "import os\n",
    "\n",
    "def extract_frames(video_path, output_dir, frame_rate=1):\n",
    "    if not os.path.exists(output_dir):\n",
    "        os.makedirs(output_dir)\n",
    "    \n",
    "    cap = cv2.VideoCapture(video_path)\n",
    "    count = 0\n",
    "    while cap.isOpened():\n",
    "        ret, frame = cap.read()\n",
    "        if not ret:\n",
    "            break\n",
    "        if count % frame_rate == 0:\n",
    "            cv2.imwrite(os.path.join(output_dir, f\"frame_{count}.jpg\"), frame)\n",
    "        count += 1\n",
    "    cap.release()\n",
    "\n",
    "def process_videos(video_dir, output_base_dir, frame_rate=1):\n",
    "    if not os.path.exists(output_base_dir):\n",
    "        os.makedirs(output_base_dir)\n",
    "    \n",
    "    # Get all video files in the specified directory\n",
    "    video_files = [f for f in os.listdir(video_dir) if f.endswith(('.mp4', '.avi', '.mov'))]\n",
    "    \n",
    "    # Limit to 400 videos\n",
    "    video_files = video_files[:400]\n",
    "    \n",
    "    for video_file in video_files:\n",
    "        video_path = os.path.join(video_dir, video_file)\n",
    "        output_dir = os.path.join(output_base_dir, os.path.splitext(video_file)[0])\n",
    "        extract_frames(video_path, output_dir, frame_rate)\n",
    "        print(f\"Processed {video_file}\")\n",
    "\n",
    "\n",
    "process_videos('/Users/lakshya/Desktop/Projects/VeriFace/Video Dataset/train_data', '/Users/lakshya/Desktop/Projects/VeriFace/Extracted Video')"
   ]
  },
  {
   "cell_type": "markdown",
   "metadata": {},
   "source": [
    "2. Audio Extraction"
   ]
  },
  {
   "cell_type": "code",
   "execution_count": null,
   "metadata": {},
   "outputs": [],
   "source": [
    "from pydub import AudioSegment\n",
    "import os\n",
    "\n",
    "def extract_audio(video_path, output_audio_path):\n",
    "    audio = AudioSegment.from_file(video_path, format=\"mp4\")\n",
    "    audio.export(output_audio_path, format=\"wav\")\n",
    "\n",
    "def process_audios(video_dir, output_dir):\n",
    "    if not os.path.exists(output_dir):\n",
    "        os.makedirs(output_dir)\n",
    "    \n",
    "    # Get all video files in the specified directory\n",
    "    video_files = [f for f in os.listdir(video_dir) if f.endswith(('.mp4', '.avi', '.mov'))]\n",
    "    \n",
    "    # Limit to 400 videos\n",
    "    video_files = video_files[:400]\n",
    "    \n",
    "    for video_file in video_files:\n",
    "        video_path = os.path.join(video_dir, video_file)\n",
    "        output_audio_path = os.path.join(output_dir, os.path.splitext(video_file)[0] + '.wav')\n",
    "        extract_audio(video_path, output_audio_path)\n",
    "        print(f\"Extracted audio from {video_file}\")\n",
    "\n",
    "\n",
    "process_audios('/Users/lakshya/Desktop/Projects/VeriFace/Video Dataset/train_data', '/Users/lakshya/Desktop/Projects/VeriFace/Extracted Audio')"
   ]
  },
  {
   "cell_type": "markdown",
   "metadata": {},
   "source": [
    "*Preprocessing*\n",
    "1. Video Preprocessing: Resizing, Normalizing, Augmentation"
   ]
  },
  {
   "cell_type": "code",
   "execution_count": null,
   "metadata": {},
   "outputs": [],
   "source": [
    "import tensorflow as tf\n",
    "\n",
    "def preprocess_video_frame(frame, target_size=(224, 224)):\n",
    "    frame = tf.image.resize(frame, target_size)\n",
    "    frame = tf.cast(frame, tf.float32) / 255.0  # Normalize\n",
    "    return frame\n"
   ]
  },
  {
   "cell_type": "markdown",
   "metadata": {},
   "source": [
    "2. Audio Preprocessing: Resampling, Noise reduction"
   ]
  },
  {
   "cell_type": "code",
   "execution_count": null,
   "metadata": {},
   "outputs": [],
   "source": [
    "import librosa\n",
    "\n",
    "def preprocess_audio(audio_path, target_sr=16000):\n",
    "    y, sr = librosa.load(audio_path, sr=target_sr)\n",
    "    y = librosa.effects.trim(y)[0]  # Trim silence\n",
    "    return y"
   ]
  },
  {
   "cell_type": "markdown",
   "metadata": {},
   "source": [
    "*Model Creation*\n",
    "1. Video Models: ResNet, VGG-16, C3D, TCN"
   ]
  },
  {
   "cell_type": "code",
   "execution_count": null,
   "metadata": {},
   "outputs": [],
   "source": [
    "from tensorflow.keras.applications import ResNet50, VGG16\n",
    "\n",
    "def create_resnet_model(input_shape=(224, 224, 3)):\n",
    "    base_model = ResNet50(weights='imagenet', include_top=False, input_shape=input_shape)\n",
    "    base_model.trainable = False\n",
    "    model = tf.keras.Sequential([\n",
    "        base_model,\n",
    "        tf.keras.layers.GlobalAveragePooling2D(),\n",
    "        tf.keras.layers.Dense(256, activation='relu'),\n",
    "        tf.keras.layers.Dense(10, activation='softmax')  # Modify for your task\n",
    "    ])\n",
    "    return model\n",
    "\n",
    "video_model = create_resnet_model()\n",
    "video_model.summary()"
   ]
  },
  {
   "cell_type": "code",
   "execution_count": null,
   "metadata": {},
   "outputs": [],
   "source": [
    "from tensorflow.keras.applications import VGG16\n",
    "from tensorflow.keras import layers, models\n",
    "\n",
    "def create_vgg16_model(input_shape=(224, 224, 3), num_classes=10):\n",
    "    base_model = VGG16(weights='imagenet', include_top=False, input_shape=input_shape)\n",
    "    base_model.trainable = False  \n",
    "\n",
    "    model = models.Sequential([\n",
    "        base_model,\n",
    "        layers.GlobalAveragePooling2D(),\n",
    "        layers.Dense(256, activation='relu'),\n",
    "        layers.Dropout(0.5),\n",
    "        layers.Dense(num_classes, activation='softmax')  \n",
    "    ])\n",
    "\n",
    "    return model\n",
    "\n",
    "# Example usage:\n",
    "vgg16_model = create_vgg16_model()\n",
    "vgg16_model.summary()"
   ]
  },
  {
   "cell_type": "code",
   "execution_count": null,
   "metadata": {},
   "outputs": [],
   "source": [
    "import tensorflow as tf\n",
    "from tensorflow.keras import layers, models\n",
    "\n",
    "def create_c3d_model(input_shape=(16, 112, 112, 3), num_classes=10):\n",
    "    model = models.Sequential()\n",
    "\n",
    "    model.add(layers.Conv3D(64, kernel_size=(3, 3, 3), activation='relu', input_shape=input_shape))\n",
    "    model.add(layers.MaxPooling3D(pool_size=(1, 2, 2)))\n",
    "\n",
    "    model.add(layers.Conv3D(128, kernel_size=(3, 3, 3), activation='relu'))\n",
    "    model.add(layers.MaxPooling3D(pool_size=(2, 2, 2)))\n",
    "\n",
    "    model.add(layers.Conv3D(256, kernel_size=(3, 3, 3), activation='relu'))\n",
    "    model.add(layers.Conv3D(256, kernel_size=(3, 3, 3), activation='relu'))\n",
    "    model.add(layers.MaxPooling3D(pool_size=(2, 2, 2)))\n",
    "\n",
    "    model.add(layers.Conv3D(512, kernel_size=(3, 3, 3), activation='relu'))\n",
    "    model.add(layers.Conv3D(512, kernel_size=(3, 3, 3), activation='relu'))\n",
    "    model.add(layers.MaxPooling3D(pool_size=(2, 2, 2)))\n",
    "\n",
    "    model.add(layers.Conv3D(512, kernel_size=(3, 3, 3), activation='relu'))\n",
    "    model.add(layers.Conv3D(512, kernel_size=(3, 3, 3), activation='relu'))\n",
    "    model.add(layers.MaxPooling3D(pool_size=(2, 2, 2)))\n",
    "\n",
    "    model.add(layers.Flatten())\n",
    "    model.add(layers.Dense(4096, activation='relu'))\n",
    "    model.add(layers.Dropout(0.5))\n",
    "    model.add(layers.Dense(4096, activation='relu'))\n",
    "    model.add(layers.Dropout(0.5))\n",
    "    model.add(layers.Dense(num_classes, activation='softmax'))\n",
    "\n",
    "    return model\n",
    "\n",
    "# Example usage:\n",
    "c3d_model = create_c3d_model()\n",
    "c3d_model.summary()"
   ]
  },
  {
   "cell_type": "code",
   "execution_count": null,
   "metadata": {},
   "outputs": [],
   "source": [
    "from tensorflow.keras import layers, models\n",
    "\n",
    "def create_tcn_model(input_shape=(128, 3), num_classes=10):\n",
    "    model = models.Sequential()\n",
    "\n",
    "    # TCN block 1\n",
    "    model.add(layers.Conv1D(filters=64, kernel_size=3, padding='causal', dilation_rate=1, activation='relu', input_shape=input_shape))\n",
    "    model.add(layers.Conv1D(filters=64, kernel_size=3, padding='causal', dilation_rate=2, activation='relu'))\n",
    "    model.add(layers.MaxPooling1D(pool_size=2))\n",
    "\n",
    "    # TCN block 2\n",
    "    model.add(layers.Conv1D(filters=128, kernel_size=3, padding='causal', dilation_rate=4, activation='relu'))\n",
    "    model.add(layers.Conv1D(filters=128, kernel_size=3, padding='causal', dilation_rate=8, activation='relu'))\n",
    "    model.add(layers.MaxPooling1D(pool_size=2))\n",
    "\n",
    "    model.add(layers.Flatten())\n",
    "    model.add(layers.Dense(256, activation='relu'))\n",
    "    model.add(layers.Dropout(0.5))\n",
    "    model.add(layers.Dense(num_classes, activation='softmax'))\n",
    "\n",
    "    return model\n",
    "\n",
    "# Example usage:\n",
    "tcn_model = create_tcn_model(input_shape=(128, 3))  # Modify the input shape based on your data\n",
    "tcn_model.summary()"
   ]
  },
  {
   "cell_type": "markdown",
   "metadata": {},
   "source": [
    "2. Audio Models: Wav2Vec, CRNN, VGGish, WaveNet"
   ]
  },
  {
   "cell_type": "code",
   "execution_count": null,
   "metadata": {},
   "outputs": [],
   "source": [
    "from transformers import Wav2Vec2Processor, Wav2Vec2Model\n",
    "import torch\n",
    "import librosa\n",
    "\n",
    "# Load pre-trained Wav2Vec2.0 model and processor\n",
    "processor = Wav2Vec2Processor.from_pretrained(\"facebook/wav2vec2-base-960h\")\n",
    "model = Wav2Vec2Model.from_pretrained(\"facebook/wav2vec2-base-960h\")\n",
    "\n",
    "# Load and preprocess audio\n",
    "def extract_wav2vec2_features(audio_path):\n",
    "    # Load audio file with librosa\n",
    "    y, sr = librosa.load(audio_path, sr=16000)  # Wav2Vec2 requires 16kHz sample rate\n",
    "    \n",
    "    # Preprocess the audio to match the input format for Wav2Vec2.0\n",
    "    input_values = processor(y, return_tensors=\"pt\", sampling_rate=sr).input_values\n",
    "    \n",
    "    # Extract features (output from the last hidden layer)\n",
    "    with torch.no_grad():\n",
    "        features = model(input_values).last_hidden_state\n",
    "    \n",
    "    return features\n"
   ]
  },
  {
   "cell_type": "code",
   "execution_count": null,
   "metadata": {},
   "outputs": [],
   "source": [
    "import tensorflow as tf\n",
    "from tensorflow.keras import layers, models\n",
    "import librosa\n",
    "import numpy as np\n",
    "\n",
    "# Example function to extract Mel-spectrogram features from audio\n",
    "def extract_mel_spectrogram(audio_path, n_mels=128):\n",
    "    y, sr = librosa.load(audio_path, sr=None)\n",
    "    mel_spec = librosa.feature.melspectrogram(y=y, sr=sr, n_mels=n_mels)\n",
    "    mel_spec_db = librosa.power_to_db(mel_spec, ref=np.max)\n",
    "    return mel_spec_db\n",
    "\n",
    "# CRNN model\n",
    "def create_crnn_model(input_shape=(128, 128, 1), num_classes=10):\n",
    "    model = models.Sequential()\n",
    "    \n",
    "    # CNN layers\n",
    "    model.add(layers.Conv2D(32, kernel_size=(3, 3), activation='relu', input_shape=input_shape))\n",
    "    model.add(layers.MaxPooling2D(pool_size=(2, 2)))\n",
    "    \n",
    "    model.add(layers.Conv2D(64, kernel_size=(3, 3), activation='relu'))\n",
    "    model.add(layers.MaxPooling2D(pool_size=(2, 2)))\n",
    "    \n",
    "    model.add(layers.Conv2D(128, kernel_size=(3, 3), activation='relu'))\n",
    "    model.add(layers.MaxPooling2D(pool_size=(2, 2)))\n",
    "\n",
    "    # RNN layers (GRU or LSTM)\n",
    "    model.add(layers.Reshape(target_shape=(-1, 128)))\n",
    "    model.add(layers.GRU(128, return_sequences=False))\n",
    "    \n",
    "    # Dense layers\n",
    "    model.add(layers.Dense(128, activation='relu'))\n",
    "    model.add(layers.Dropout(0.5))\n",
    "    model.add(layers.Dense(num_classes, activation='softmax'))\n",
    "    \n",
    "    return model\n",
    "\n",
    "# Example usage\n",
    "crnn_model = create_crnn_model(input_shape=(128, 128, 1))  # input shape should match the Mel-spectrogram shape\n",
    "crnn_model.summary()"
   ]
  },
  {
   "cell_type": "code",
   "execution_count": null,
   "metadata": {},
   "outputs": [],
   "source": [
    "from tensorflow.keras import layers, models\n",
    "\n",
    "def residual_block(x, dilation_rate):\n",
    "    conv = layers.Conv1D(filters=64, kernel_size=2, padding='causal', dilation_rate=dilation_rate)(x)\n",
    "    conv = layers.Activation('relu')(conv)\n",
    "    conv = layers.Conv1D(filters=64, kernel_size=2, padding='causal')(conv)\n",
    "    \n",
    "    # Residual connection\n",
    "    x = layers.add([x, conv])\n",
    "    return x\n",
    "\n",
    "def create_wavenet_model(input_shape=(16000, 1), num_classes=10):\n",
    "    inputs = layers.Input(shape=input_shape)\n",
    "    \n",
    "    x = layers.Conv1D(filters=64, kernel_size=2, padding='causal')(inputs)\n",
    "    \n",
    "    # Stack of residual blocks with increasing dilation rates\n",
    "    for dilation_rate in [1, 2, 4, 8, 16]:\n",
    "        x = residual_block(x, dilation_rate)\n",
    "    \n",
    "    x = layers.GlobalAveragePooling1D()(x)\n",
    "    x = layers.Dense(128, activation='relu')(x)\n",
    "    x = layers.Dropout(0.5)(x)\n",
    "    outputs = layers.Dense(num_classes, activation='softmax')(x)\n",
    "    \n",
    "    model = models.Model(inputs, outputs)\n",
    "    return model\n",
    "\n",
    "# Example usage\n",
    "wavenet_model = create_wavenet_model()\n",
    "wavenet_model.summary()"
   ]
  },
  {
   "cell_type": "code",
   "execution_count": null,
   "metadata": {},
   "outputs": [],
   "source": [
    "from pydub import AudioSegment\n",
    "import os\n",
    "\n",
    "def extract_audio(video_path, output_audio_path):\n",
    "    audio = AudioSegment.from_file(video_path, format=\"mp4\")\n",
    "    audio.export(output_audio_path, format=\"wav\")\n",
    "\n",
    "def process_audios(video_dir, output_dir):\n",
    "    if not os.path.exists(output_dir):\n",
    "        os.makedirs(output_dir)\n",
    "    \n",
    "    # Get all video files in the specified directory\n",
    "    video_files = [f for f in os.listdir(video_dir) if f.endswith(('.mp4', '.avi', '.mov'))]\n",
    "    \n",
    "    # Limit to 400 videos\n",
    "    video_files = video_files[:400]\n",
    "    \n",
    "    for video_file in video_files:\n",
    "        video_path = os.path.join(video_dir, video_file)\n",
    "        output_audio_path = os.path.join(output_dir, os.path.splitext(video_file)[0] + '.wav')\n",
    "        extract_audio(video_path, output_audio_path)\n",
    "        print(f\"Extracted audio from {video_file}\")\n",
    "\n",
    "# Example usage\n",
    "process_audios('input_videos', 'audio_files')\n"
   ]
  },
  {
   "cell_type": "markdown",
   "metadata": {},
   "source": [
    "*Feature Extraction*\n",
    "1. Video "
   ]
  },
  {
   "cell_type": "code",
   "execution_count": null,
   "metadata": {},
   "outputs": [],
   "source": [
    "def extract_vgg16_features(video_frames):\n",
    "    vgg16_model = create_vgg16_model()\n",
    "    vgg16_features = vgg16_model.predict(video_frames)\n",
    "    return vgg16_features\n",
    "\n",
    "def extract_resnet50_features(video_frames):\n",
    "    resnet_model = create_resnet_model()\n",
    "    resnet_features = resnet_model.predict(video_frames)\n",
    "    return resnet_features\n",
    "\n",
    "def extract_c3d_features(video_frames):\n",
    "    c3d_model = create_c3d_model()\n",
    "    c3d_features = c3d_model.predict(video_frames)\n",
    "    return c3d_features\n",
    "\n",
    "def extract_tcn_features(mel_spectrogram):\n",
    "    tcn_model = create_tcn_model()\n",
    "    tcn_features = tcn_model.predict(mel_spectrogram)\n",
    "    return tcn_features"
   ]
  },
  {
   "cell_type": "markdown",
   "metadata": {},
   "source": [
    "2. Audio"
   ]
  },
  {
   "cell_type": "code",
   "execution_count": null,
   "metadata": {},
   "outputs": [],
   "source": [
    "def extract_crnn_features(mel_spectrogram):\n",
    "    crnn_model = create_crnn_model()\n",
    "    crnn_features = crnn_model.predict(mel_spectrogram)\n",
    "    return crnn_features\n",
    "\n",
    "def extract_wavenet_features(audio_data):\n",
    "    wavenet_model = create_wavenet_model()\n",
    "    wavenet_features = wavenet_model.predict(audio_data)\n",
    "    return wavenet_features\n",
    "\n",
    "def extract_vggish_features(audio_data):\n",
    "    vggish_model = hub.load(\"https://tfhub.dev/google/vggish/1\")\n",
    "    vggish_features = vggish_model(audio_data)\n",
    "    return vggish_features\n",
    "\n",
    "def extract_wav2vec_features(audio_data):\n",
    "    processor = Wav2Vec2Processor.from_pretrained(\"facebook/wav2vec2-base-960h\")\n",
    "    model = Wav2Vec2Model.from_pretrained(\"facebook/wav2vec2-base-960h\")\n",
    "    input_values = processor(audio_data, return_tensors=\"pt\", sampling_rate=16000).input_values\n",
    "    with torch.no_grad():\n",
    "        wav2vec_features = model(input_values).last_hidden_state\n",
    "    return wav2vec_features\n"
   ]
  },
  {
   "cell_type": "markdown",
   "metadata": {},
   "source": [
    "*Feature Fusion*\n",
    "1. Video \n"
   ]
  },
  {
   "cell_type": "code",
   "execution_count": null,
   "metadata": {},
   "outputs": [],
   "source": [
    "from tensorflow.keras.layers import concatenate\n",
    "\n",
    "def fuse_video_features(vgg16_features, resnet50_features, c3d_features, tcn_features):\n",
    "    fused_features = concatenate([vgg16_features, resnet50_features, c3d_features, tcn_features], axis=-1)\n",
    "    return fused_features"
   ]
  },
  {
   "cell_type": "markdown",
   "metadata": {},
   "source": [
    "2. Audio"
   ]
  },
  {
   "cell_type": "code",
   "execution_count": null,
   "metadata": {},
   "outputs": [],
   "source": [
    "from tensorflow.keras.layers import concatenate\n",
    "\n",
    "def fuse_audio_features(crnn_features, wavenet_features, vggish_features, wav2vec_features):\n",
    "    fused_features = concatenate([crnn_features, wavenet_features, vggish_features, wav2vec_features], axis=-1)\n",
    "    return fused_features"
   ]
  },
  {
   "cell_type": "markdown",
   "metadata": {},
   "source": [
    "*Final Model*"
   ]
  },
  {
   "cell_type": "code",
   "execution_count": null,
   "metadata": {},
   "outputs": [],
   "source": [
    "def create_final_model(video_shape, audio_shape, num_classes=10):\n",
    "    # Create video and audio feature extraction models\n",
    "    vgg16_model = create_vgg16_model()\n",
    "    resnet50_model = create_resnet_model()\n",
    "    c3d_model = create_c3d_model()\n",
    "    \n",
    "\n",
    "    crnn_model = create_crnn_model()\n",
    "    wavenet_model = create_wavenet_model()\n",
    "    vggish_model = hub.load(\"https://tfhub.dev/google/vggish/1\")\n",
    "    \n",
    "    # Define input layers\n",
    "    video_input = layers.Input(shape=video_shape)\n",
    "    audio_input = layers.Input(shape=audio_shape)\n",
    "    \n",
    "    # Extract features\n",
    "    vgg16_features = vgg16_model(video_input)\n",
    "    resnet50_features = resnet50_model(video_input)\n",
    "    c3d_features = c3d_model(video_input)\n",
    "    \n",
    "    crnn_features = crnn_model(audio_input)\n",
    "    wavenet_features = wavenet_model(audio_input)\n",
    "    vggish_features = vggish_model(audio_input)\n",
    "    \n",
    "    # Fuse video features\n",
    "    fused_video_features = fuse_video_features(vgg16_features, resnet50_features, c3d_features)\n",
    "    \n",
    "    # Fuse audio features\n",
    "    fused_audio_features = fuse_audio_features(crnn_features, wavenet_features, vggish_features)\n",
    "    \n",
    "    # Combine fused features\n",
    "    combined_features = concatenate([fused_video_features, fused_audio_features], axis=-1)\n",
    "    \n",
    "    # Final classification model\n",
    "    x = layers.Dense(256, activation='relu')(combined_features)\n",
    "    x = layers.Dropout(0.5)(x)\n",
    "    outputs = layers.Dense(num_classes, activation='softmax')(x)\n",
    "    \n",
    "    model = models.Model(inputs=[video_input, audio_input], outputs=outputs)\n",
    "    return model"
   ]
  }
 ],
 "metadata": {
  "kernelspec": {
   "display_name": "Python 3",
   "language": "python",
   "name": "python3"
  },
  "language_info": {
   "codemirror_mode": {
    "name": "ipython",
    "version": 3
   },
   "file_extension": ".py",
   "mimetype": "text/x-python",
   "name": "python",
   "nbconvert_exporter": "python",
   "pygments_lexer": "ipython3",
   "version": "3.11.4"
  }
 },
 "nbformat": 4,
 "nbformat_minor": 2
}
