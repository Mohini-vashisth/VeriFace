{
 "cells": [
  {
   "cell_type": "code",
   "execution_count": null,
   "metadata": {},
   "outputs": [],
   "source": [
    "%pip install tensorflow\n",
    "import tensorflow as tf\n",
    "import numpy as np\n",
    "import cv2\n",
    "import librosa\n",
    "from tqdm import tqdm"
   ]
  },
  {
   "cell_type": "markdown",
   "metadata": {},
   "source": [
    "Step 1: Loading Metadata\n",
    "\n",
    "The first step is to load the metadata (labels, file paths, etc.) from a JSON file."
   ]
  },
  {
   "cell_type": "code",
   "execution_count": null,
   "metadata": {},
   "outputs": [],
   "source": [
    "import json\n",
    "\n",
    "def load_metadata(metadata_path):\n",
    "    try:\n",
    "        with open(metadata_path, 'r') as f:\n",
    "            metadata = json.load(f)\n",
    "    except (FileNotFoundError, json.JSONDecodeError) as e:\n",
    "        print(f\"Error loading metadata: {e}\")\n",
    "        metadata = {}\n",
    "    return metadata\n",
    "\n",
    "metadata_path = \"/path/to/metadata.json\"\n",
    "metadata = load_metadata(metadata_path)\n",
    "print(metadata)"
   ]
  },
  {
   "cell_type": "markdown",
   "metadata": {},
   "source": [
    "Step 2: Video Loading and Processing\n",
    "\n",
    "This function handles video loading, resizing, normalization, and padding."
   ]
  },
  {
   "cell_type": "code",
   "execution_count": null,
   "metadata": {},
   "outputs": [],
   "source": [
    "import os\n",
    "import numpy as np\n",
    "import cv2\n",
    "\n",
    "def load_video(video_path, max_frames=100, target_size=(224, 224)):\n",
    "    cap = cv2.VideoCapture(video_path)\n",
    "    frames = []\n",
    "    \n",
    "    if not cap.isOpened():\n",
    "        print(f\"Error opening video file {video_path}\")\n",
    "        return np.zeros((max_frames, target_size[0], target_size[1], 3))\n",
    "    \n",
    "    while cap.isOpened() and len(frames) < max_frames:\n",
    "        ret, frame = cap.read()\n",
    "        if not ret:\n",
    "            break\n",
    "        frame = cv2.resize(frame, target_size)\n",
    "        frame = frame / 255.0  # Normalize frame values to [0, 1]\n",
    "        frames.append(frame)\n",
    "    \n",
    "    cap.release()\n",
    "    \n",
    "    # Padding with black frames if the video is too short\n",
    "    while len(frames) < max_frames:\n",
    "        frames.append(np.zeros((target_size[0], target_size[1], 3)))  # Black frame padding (RGB)\n",
    "    \n",
    "    return np.array(frames)"
   ]
  },
  {
   "cell_type": "markdown",
   "metadata": {},
   "source": [
    "Step 3: Mel-Spectrogram Extraction (Audio)\n",
    "\n",
    "We extract Mel-spectrogram features from audio for further processing."
   ]
  },
  {
   "cell_type": "code",
   "execution_count": null,
   "metadata": {},
   "outputs": [],
   "source": [
    "import librosa\n",
    "\n",
    "def extract_mel_spectrogram(audio_input, sr=16000, n_mels=128):\n",
    "    mel_spec = librosa.feature.melspectrogram(audio_input, sr=sr, n_mels=n_mels)\n",
    "    log_mel_spec = librosa.power_to_db(mel_spec, ref=np.max)\n",
    "    return log_mel_spec"
   ]
  },
  {
   "cell_type": "markdown",
   "metadata": {},
   "source": [
    "Step 4: Audio Feature Extraction Models\n",
    "\n",
    "1. CRNN (Convolutional Recurrent Neural Network)\n",
    "\n",
    "CRNN combines CNN and RNN layers to capture both spatial and temporal features in the audio."
   ]
  },
  {
   "cell_type": "code",
   "execution_count": null,
   "metadata": {},
   "outputs": [],
   "source": [
    "from tensorflow.keras.layers import Conv1D, GRU, TimeDistributed, Flatten\n",
    "\n",
    "def create_crnn_model(input_shape=(100, 128)):\n",
    "    inputs = layers.Input(shape=input_shape)\n",
    "    x = Conv1D(128, kernel_size=3, activation='relu')(inputs)\n",
    "    x = TimeDistributed(GRU(64, return_sequences=True))(x)\n",
    "    x = Flatten()(x)\n",
    "    model = models.Model(inputs, x)\n",
    "    return model\n",
    "\n",
    "def extract_crnn_features(audio_input):\n",
    "    crnn_model = create_crnn_model()\n",
    "    return crnn_model.predict(audio_input)"
   ]
  },
  {
   "cell_type": "markdown",
   "metadata": {},
   "source": [
    "2. WavNet\n",
    "\n",
    "WavNet processes raw audio waveforms using dilated convolutions."
   ]
  },
  {
   "cell_type": "code",
   "execution_count": null,
   "metadata": {},
   "outputs": [],
   "source": [
    "from tensorflow.keras.layers import Conv1D, Flatten\n",
    "\n",
    "def create_wavenet_model(input_shape=(16000, 1)):  # Assuming raw audio waveform input\n",
    "    inputs = layers.Input(shape=input_shape)\n",
    "    x = Conv1D(64, kernel_size=2, dilation_rate=2, padding='causal', activation='relu')(inputs)\n",
    "    x = Conv1D(128, kernel_size=2, dilation_rate=4, padding='causal', activation='relu')(x)\n",
    "    x = Flatten()(x)\n",
    "    x = layers.Dense(128, activation='relu')(x)\n",
    "    model = models.Model(inputs, x)\n",
    "    return model\n",
    "\n",
    "def extract_wavenet_features(audio_input):\n",
    "    wavenet_model = create_wavenet_model()\n",
    "    return wavenet_model.predict(audio_input)"
   ]
  },
  {
   "cell_type": "markdown",
   "metadata": {},
   "source": [
    "4. Custom CNN for Audio\n",
    "\n",
    "A simple CNN model for audio feature extraction."
   ]
  },
  {
   "cell_type": "code",
   "execution_count": null,
   "metadata": {},
   "outputs": [],
   "source": [
    "def create_audio_cnn_model(input_shape=(128, 128, 1)):  # Assuming Mel-spectrogram input\n",
    "    inputs = layers.Input(shape=input_shape)\n",
    "    x = layers.Conv2D(32, (3, 3), activation='relu')(inputs)\n",
    "    x = layers.MaxPooling2D(pool_size=(2, 2))(x)\n",
    "    x = layers.Conv2D(64, (3, 3), activation='relu')(x)\n",
    "    x = layers.MaxPooling2D(pool_size=(2, 2))(x)\n",
    "    x = Flatten()(x)\n",
    "    model = models.Model(inputs, x)\n",
    "    return model\n",
    "\n",
    "def extract_audio_cnn_features(audio_input):\n",
    "    audio_cnn_model = create_audio_cnn_model()\n",
    "    return audio_cnn_model.predict(audio_input)"
   ]
  },
  {
   "cell_type": "markdown",
   "metadata": {},
   "source": [
    "Step 5: Video Feature Extraction Models\n",
    "\n",
    "1. C3D (3D Convolutional Neural Network)\n",
    "\n",
    "The C3D model captures both spatial and temporal information using 3D convolutions."
   ]
  },
  {
   "cell_type": "code",
   "execution_count": null,
   "metadata": {},
   "outputs": [],
   "source": [
    "from tensorflow.keras.layers import Conv3D, MaxPooling3D, Flatten\n",
    "\n",
    "def create_c3d_model(input_shape=(16, 112, 112, 3)):\n",
    "    inputs = layers.Input(shape=input_shape)\n",
    "    x = Conv3D(64, kernel_size=(3, 3, 3), activation='relu')(inputs)\n",
    "    x = MaxPooling3D(pool_size=(1, 2, 2))(x)\n",
    "    x = Conv3D(128, kernel_size=(3, 3, 3), activation='relu')(x)\n",
    "    x = MaxPooling3D(pool_size=(2, 2, 2))(x)\n",
    "    x = Flatten()(x)\n",
    "    model = models.Model(inputs, x)\n",
    "    return model\n",
    "\n",
    "def extract_c3d_features(video_input):\n",
    "    c3d_model = create_c3d_model()\n",
    "    return c3d_model.predict(video_input)"
   ]
  },
  {
   "cell_type": "markdown",
   "metadata": {},
   "source": [
    "2. CNN for Video\n",
    "\n",
    "A simple CNN for extracting features from video frames."
   ]
  },
  {
   "cell_type": "code",
   "execution_count": null,
   "metadata": {},
   "outputs": [],
   "source": [
    "def create_video_cnn_model(input_shape=(100, 224, 224, 3)):  # Assuming frames as input\n",
    "    inputs = layers.Input(shape=input_shape)\n",
    "    x = layers.Conv3D(64, (3, 3, 3), activation='relu')(inputs)\n",
    "    x = layers.MaxPooling3D(pool_size=(2, 2, 2))(x)\n",
    "    x = layers.Conv3D(128, (3, 3, 3), activation='relu')(x)\n",
    "    x = layers.MaxPooling3D(pool_size=(2, 2, 2))(x)\n",
    "    x = Flatten()(x)\n",
    "    model = models.Model(inputs, x)\n",
    "    return model\n",
    "\n",
    "def extract_video_cnn_features(video_input):\n",
    "    video_cnn_model = create_video_cnn_model()\n",
    "    return video_cnn_model.predict(video_input)"
   ]
  },
  {
   "cell_type": "markdown",
   "metadata": {},
   "source": [
    "3. TCN for Video\n",
    "\n",
    "A TCN model for sequential video frames."
   ]
  },
  {
   "cell_type": "code",
   "execution_count": null,
   "metadata": {},
   "outputs": [],
   "source": [
    "def create_video_tcn_model(input_shape=(100, 128)):\n",
    "    inputs = layers.Input(shape=input_shape)\n",
    "    x = Conv1D(128, kernel_size=3, padding='causal', activation='relu')(inputs)\n",
    "    x = BatchNormalization()(x)\n",
    "    x = Conv1D(256, kernel_size=3, padding='causal', activation='relu')(x)\n",
    "    x = BatchNormalization()(x)\n",
    "    x = Flatten()(x)\n",
    "    model = models.Model(inputs, x)\n",
    "    return model\n",
    "\n",
    "def extract_video_tcn_features(video_input):\n",
    "    video_tcn_model = create_video_tcn_model()\n",
    "    return video_tcn_model.predict(video_input)"
   ]
  },
  {
   "cell_type": "markdown",
   "metadata": {},
   "source": [
    "4. Custom RNN for Video\n",
    "\n",
    "A recurrent neural network for capturing temporal dependencies in video frames."
   ]
  },
  {
   "cell_type": "code",
   "execution_count": null,
   "metadata": {},
   "outputs": [],
   "source": [
    "def create_video_rnn_model(input_shape=(100, 128)):\n",
    "    inputs = layers.Input(shape=input_shape)\n",
    "    x = TimeDistributed(Conv1D(128, 3, activation='relu'))(inputs)\n",
    "    x = TimeDistributed(Flatten())(x)\n",
    "    x = layers.LSTM(64, return_sequences=False)(x)\n",
    "    model = models.Model(inputs, x)\n",
    "    return model\n",
    "\n",
    "def extract_video_rnn_features(video_input):\n",
    "    video_rnn_model = create_video_rnn_model()\n",
    "    return video_rnn_model.predict(video_input)"
   ]
  },
  {
   "cell_type": "markdown",
   "metadata": {},
   "source": [
    "Step 6: Feature Fusion Using Attention\n",
    "\n",
    "Attention blocks assign importance to different features before they are fused."
   ]
  },
  {
   "cell_type": "code",
   "execution_count": null,
   "metadata": {},
   "outputs": [],
   "source": [
    "from tensorflow.keras.layers import Dense, Concatenate\n",
    "\n",
    "def attention_block(inputs):\n",
    "    attention = Dense(256, activation='softmax')(inputs)\n",
    "    return inputs * attention\n",
    "\n",
    "def fuse_video_features(c3d_features, cnn_features, tcn_features, rnn_features):\n",
    "    concatenated_video = Concatenate()([c3d_features, cnn_features, tcn_features, rnn_features])\n",
    "    return attention_block(concatenated_video)\n",
    "\n",
    "def fuse_audio_features(crnn_features, wavenet_features, tcn_features, cnn_features):\n",
    "    concatenated_audio = Concatenate()([crnn_features, wavenet_features, tcn_features, cnn_features])\n",
    "    return attention_block(concatenated_audio)"
   ]
  },
  {
   "cell_type": "markdown",
   "metadata": {},
   "source": [
    "Step 7: Final Multimodal Model\n",
    "\n",
    "Combine the feature extractors and fuse their features into a unified model."
   ]
  },
  {
   "cell_type": "code",
   "execution_count": null,
   "metadata": {},
   "outputs": [],
   "source": [
    "from tensorflow.keras import layers, models\n",
    "\n",
    "def create_final_model(video_shape, audio_shape, num_classes=10):\n",
    "    # Inputs for video and audio\n",
    "    video_input = layers.Input(shape=video_shape)\n",
    "    audio_input = layers.Input(shape=audio_shape)\n",
    "\n",
    "    # Extract video and audio features using four models each\n",
    "    c3d_features = extract_c3d_features(video_input)\n",
    "    video_cnn_features = extract_video_cnn_features(video_input)\n",
    "    video_tcn_features = extract_video_tcn_features(video_input)\n",
    "    video_rnn_features = extract_video_rnn_features(video_input)\n",
    "\n",
    "    crnn_features = extract_crnn_features(audio_input)\n",
    "    wavenet_features = extract_wavenet_features(audio_input)\n",
    "    audio_tcn_features = extract_tcn_features(audio_input)\n",
    "    audio_cnn_features = extract_audio_cnn_features(audio_input)\n",
    "\n",
    "    # Fuse features with attention\n",
    "    fused_video_features = fuse_video_features(c3d_features, video_cnn_features, video_tcn_features, video_rnn_features)\n",
    "    fused_audio_features = fuse_audio_features(crnn_features, wavenet_features, audio_tcn_features, audio_cnn_features)\n",
    "\n",
    "    # Combine fused audio and video features\n",
    "    combined_features = Concatenate()([fused_video_features, fused_audio_features])\n",
    "\n",
    "    # Final classification layers\n",
    "    x = layers.Dense(256, activation='relu')(combined_features)\n",
    "    x = layers.Dropout(0.5)(x)\n",
    "    output = layers.Dense(num_classes, activation='softmax')(x)\n",
    "\n",
    "    # Create the final model\n",
    "    model = models.Model(inputs=[video_input, audio_input], outputs=output)\n",
    "    return model\n",
    "\n",
    "# Example usage:\n",
    "video_shape = (100, 224, 224, 3)  # Shape of video input\n",
    "audio_shape = (128, 128, 1)       # Shape of audio (Mel-spectrogram)\n",
    "num_classes = 10                  # Number of output classes\n",
    "\n",
    "model = create_final_model(video_shape, audio_shape, num_classes)\n",
    "model.compile(optimizer='adam', loss='categorical_crossentropy', metrics=['accuracy'])"
   ]
  }
 ],
 "metadata": {
  "kernelspec": {
   "display_name": "Python 3",
   "language": "python",
   "name": "python3"
  },
  "language_info": {
   "codemirror_mode": {
    "name": "ipython",
    "version": 3
   },
   "file_extension": ".py",
   "mimetype": "text/x-python",
   "name": "python",
   "nbconvert_exporter": "python",
   "pygments_lexer": "ipython3",
   "version": "3.12.6"
  }
 },
 "nbformat": 4,
 "nbformat_minor": 2
}
